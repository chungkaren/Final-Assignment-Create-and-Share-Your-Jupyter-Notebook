{
 "cells": [
  {
   "cell_type": "markdown",
   "id": "41d8ddf3-156c-4a7d-8b7f-0a1dbaefd720",
   "metadata": {},
   "source": [
    "# Data Science Tools and Ecosystem"
   ]
  },
  {
   "cell_type": "markdown",
   "id": "90708aa1-0ee0-4f33-bcdc-0a509877bec7",
   "metadata": {},
   "source": [
    "# In this notebook, Data Science Tools and Ecosystem are summarized."
   ]
  },
  {
   "cell_type": "markdown",
   "id": "417c7864-2155-4d59-b97a-67e3a2e50391",
   "metadata": {},
   "source": [
    "**Objectives**\n",
    "- How to create Jupyter Notebook on Anaconda Navigator\n",
    "- How to create an unordered list on Jupyter Notebook\n",
    "- How to create a markdown cell on Jupyter Notebook"
   ]
  },
  {
   "cell_type": "markdown",
   "id": "25a0594d-f6c6-4589-914c-e1e082f7ac12",
   "metadata": {},
   "source": [
    "# Some of the popular languages that Data Scientists use are:\n",
    "1. Python\n",
    "2. R\n",
    "3. SQL\n",
    "4. C++"
   ]
  },
  {
   "cell_type": "markdown",
   "id": "bdcda4d8-d4e3-46b3-b377-da9e4bf90482",
   "metadata": {},
   "source": [
    "# Some of the commonly used libraries used by Data Scientists include:\n",
    "1. Pandas\n",
    "2. Numpy\n",
    "3. Matplotlib\n",
    "4. Scipy"
   ]
  },
  {
   "cell_type": "markdown",
   "id": "e85a9e7c-a7da-4b4d-9104-e950ae774148",
   "metadata": {},
   "source": [
    "|Data Science Tools|\n",
    "|------------------|\n",
    "|TensorFlow|\n",
    "|Apache Spark|\n",
    "|RStudio|"
   ]
  },
  {
   "cell_type": "markdown",
   "id": "0e1995ad-ee80-4fba-a1f5-1a2bd072c9a1",
   "metadata": {},
   "source": [
    "### Below are a few examples of evaluating arithmetic expressions in Python"
   ]
  },
  {
   "cell_type": "code",
   "execution_count": 2,
   "id": "d38462ac-ffbb-4079-8dfe-41bc7a5eeca2",
   "metadata": {
    "tags": []
   },
   "outputs": [
    {
     "data": {
      "text/plain": [
       "17"
      ]
     },
     "execution_count": 2,
     "metadata": {},
     "output_type": "execute_result"
    }
   ],
   "source": [
    "# This a simple arithmetic expression to mutiply then add integers\n",
    "(3*4)+5"
   ]
  },
  {
   "cell_type": "code",
   "execution_count": 3,
   "id": "d01b9e43-9ca4-4fe5-9bf5-95bf347789c0",
   "metadata": {
    "tags": []
   },
   "outputs": [
    {
     "name": "stdout",
     "output_type": "stream",
     "text": [
      "200 minutes is equal to 3.3333333333333335 hours.\n"
     ]
    }
   ],
   "source": [
    "# This will convert 200 minutes to hours by diving by 60\n",
    "def convert_minutes_to_hours(minutes):\n",
    "    return minutes / 60\n",
    "minutes = 200\n",
    "hours = convert_minutes_to_hours(minutes)\n",
    "print(f\"{minutes} minutes is equal to {hours} hours.\")"
   ]
  },
  {
   "cell_type": "markdown",
   "id": "8e42e633-01aa-4538-9bf0-5bca2e763bdf",
   "metadata": {},
   "source": [
    "## Author\n",
    "Karen Chung"
   ]
  },
  {
   "cell_type": "code",
   "execution_count": null,
   "id": "2383c9fd-d79a-4ea0-87f8-8a59e5d3b65e",
   "metadata": {},
   "outputs": [],
   "source": []
  }
 ],
 "metadata": {
  "kernelspec": {
   "display_name": "Python",
   "language": "python",
   "name": "conda-env-python-py"
  },
  "language_info": {
   "codemirror_mode": {
    "name": "ipython",
    "version": 3
   },
   "file_extension": ".py",
   "mimetype": "text/x-python",
   "name": "python",
   "nbconvert_exporter": "python",
   "pygments_lexer": "ipython3",
   "version": "3.7.12"
  }
 },
 "nbformat": 4,
 "nbformat_minor": 5
}
